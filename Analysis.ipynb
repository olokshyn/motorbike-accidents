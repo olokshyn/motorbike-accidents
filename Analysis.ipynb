{
 "cells": [
  {
   "cell_type": "code",
   "execution_count": null,
   "metadata": {},
   "outputs": [],
   "source": [
    "import os\n",
    "\n",
    "import numpy as np\n",
    "import pandas as pd\n",
    "from scipy.optimize import minimize_scalar, minimize\n",
    "from scipy.stats import poisson, norm, gamma\n",
    "from scipy.special import factorial\n",
    "import statsmodels.api as sm\n",
    "\n",
    "from sklearn.metrics import mean_squared_error\n",
    "\n",
    "%matplotlib inline\n",
    "from matplotlib import pyplot as plt\n",
    "import seaborn as sns"
   ]
  },
  {
   "cell_type": "code",
   "execution_count": null,
   "metadata": {},
   "outputs": [],
   "source": [
    "DATASET_PATH = 'datasets/motorbike_ambulance_calls.csv'\n",
    "FIGURES_PATH = 'figures'\n",
    "\n",
    "pd.plotting.register_matplotlib_converters()\n",
    "sns.set_style('whitegrid')\n",
    "sns.set_palette('muted')\n",
    "year_palette = {\n",
    "    2011: 'C0',\n",
    "    2012: 'C3'\n",
    "}\n",
    "season_order = ['winter', 'spring', 'summer', 'autumn']"
   ]
  },
  {
   "cell_type": "code",
   "execution_count": null,
   "metadata": {},
   "outputs": [],
   "source": [
    "motorbike_data = (\n",
    "    pd.read_csv(\n",
    "        DATASET_PATH,\n",
    "        parse_dates=['date'],\n",
    "        dayfirst=False,\n",
    "    )\n",
    "    .set_index('index')\n",
    "    \n",
    "    .assign(\n",
    "        yr=lambda x: np.where(\n",
    "            x['yr'] == 0,\n",
    "            2011,\n",
    "            2012\n",
    "        )\n",
    "    )\n",
    "    .assign(\n",
    "        season=lambda x: (\n",
    "            pd.Categorical(\n",
    "                x['season'], \n",
    "                categories=season_order, \n",
    "                ordered=True\n",
    "            )\n",
    "        )\n",
    "    )\n",
    ")\n",
    "motorbike_data.info()\n",
    "motorbike_data.head()"
   ]
  },
  {
   "cell_type": "code",
   "execution_count": null,
   "metadata": {},
   "outputs": [],
   "source": [
    "if not os.path.exists(FIGURES_PATH):\n",
    "    os.mkdir(FIGURES_PATH)"
   ]
  },
  {
   "cell_type": "markdown",
   "metadata": {},
   "source": [
    "# Categorical and date-time features"
   ]
  },
  {
   "cell_type": "code",
   "execution_count": null,
   "metadata": {},
   "outputs": [],
   "source": [
    "g = sns.relplot(\n",
    "    x='mnth',\n",
    "    y='cnt',\n",
    "    hue='yr',\n",
    "    legend='full',\n",
    "    kind='line',\n",
    "    marker='o',\n",
    "    aspect=2,\n",
    "    palette=year_palette,\n",
    "    data=motorbike_data\n",
    ")\n",
    "g._legend.texts[0].set_text('Year')\n",
    "g.set(\n",
    "    xlabel='Month', \n",
    "    ylabel='Average number of calls', \n",
    ")\n",
    "plt.subplots_adjust(top=0.9)\n",
    "g.fig.suptitle('Number of calls by month and year')\n",
    "g.fig.savefig(os.path.join(FIGURES_PATH, 'calls-by-month.png'))"
   ]
  },
  {
   "cell_type": "code",
   "execution_count": null,
   "metadata": {},
   "outputs": [],
   "source": [
    "data_by_year = (\n",
    "    motorbike_data\n",
    "    .groupby(['yr', 'mnth'], as_index=False)\n",
    "    ['cnt'].mean()\n",
    ")\n",
    "\n",
    "data_11 = (\n",
    "    data_by_year\n",
    "    .loc[lambda x: x['yr'] == 2011, 'cnt']\n",
    "    .reset_index(drop=True)\n",
    ")\n",
    "\n",
    "data_12 = (\n",
    "    data_by_year\n",
    "    .loc[lambda x: x['yr'] == 2012, 'cnt']\n",
    "    .reset_index(drop=True)\n",
    ")\n",
    "\n",
    "def years_diff_loss(intercept):\n",
    "    return mean_squared_error(data_11 + intercept, data_12)\n",
    "\n",
    "optimum = minimize_scalar(years_diff_loss)\n",
    "assert optimum.success\n",
    "print(optimum)"
   ]
  },
  {
   "cell_type": "code",
   "execution_count": null,
   "metadata": {},
   "outputs": [],
   "source": [
    "g = sns.relplot(\n",
    "    x='mnth',\n",
    "    y='cnt',\n",
    "    hue='yr',\n",
    "    legend='full',\n",
    "    kind='line',\n",
    "    marker='o',\n",
    "    aspect=2,\n",
    "    palette=year_palette,\n",
    "    data=(\n",
    "        motorbike_data\n",
    "        .assign(cnt=lambda x: np.where(\n",
    "            x['yr'] == 2011,\n",
    "            x['cnt'] + optimum.x,\n",
    "            x['cnt']\n",
    "        ))\n",
    "    )\n",
    ")\n",
    "g._legend.texts[0].set_text('Year')\n",
    "g.set(\n",
    "    xlabel='Month', \n",
    "    ylabel='Average number of calls', \n",
    ")\n",
    "plt.subplots_adjust(top=0.9)\n",
    "g.fig.suptitle('Seasonality change of number of calls by month and year')\n",
    "g.fig.savefig(os.path.join(FIGURES_PATH, 'seasonality-change-calls-by-month.png'))"
   ]
  },
  {
   "cell_type": "code",
   "execution_count": null,
   "metadata": {
    "scrolled": false
   },
   "outputs": [],
   "source": [
    "g = sns.relplot(\n",
    "    x='season',\n",
    "    y='cnt',\n",
    "    hue='yr',\n",
    "    legend='full',\n",
    "    kind='line',\n",
    "    marker='o',\n",
    "    aspect=2,\n",
    "    palette=year_palette,\n",
    "    data=motorbike_data\n",
    ")\n",
    "g._legend.texts[0].set_text('Year')\n",
    "g.set(\n",
    "    xlabel='Season', \n",
    "    ylabel='Average number of calls', \n",
    ")\n",
    "plt.subplots_adjust(top=0.9)\n",
    "g.fig.suptitle('Number of calls by season and year')\n",
    "g.fig.savefig(os.path.join(FIGURES_PATH, 'calls-by-sesason.png'))"
   ]
  },
  {
   "cell_type": "code",
   "execution_count": null,
   "metadata": {},
   "outputs": [],
   "source": [
    "g = sns.catplot(\n",
    "    x='season',\n",
    "    y='cnt',\n",
    "    hue='yr',\n",
    "    legend='full',\n",
    "    kind='bar',\n",
    "    palette=year_palette,\n",
    "    aspect=2,\n",
    "    data=(\n",
    "        motorbike_data\n",
    "        .groupby(['yr', 'season'], as_index=False)\n",
    "        ['cnt']\n",
    "        .count()\n",
    "    )\n",
    ")\n",
    "g._legend.set_title('Year')\n",
    "g.set(\n",
    "    xlabel='Season', \n",
    "    ylabel='Number of observations', \n",
    ")\n",
    "plt.subplots_adjust(top=0.9)\n",
    "g.fig.suptitle('Number of observations by season and year')\n",
    "g.fig.savefig(os.path.join(FIGURES_PATH, 'observations-by-season.png'))"
   ]
  },
  {
   "cell_type": "code",
   "execution_count": null,
   "metadata": {
    "scrolled": false
   },
   "outputs": [],
   "source": [
    "g = sns.relplot(\n",
    "    x='hr',\n",
    "    y='cnt',\n",
    "    hue='yr',\n",
    "    row='workingday',\n",
    "    legend='full',\n",
    "    kind='line',\n",
    "    marker='o',\n",
    "    aspect=2,\n",
    "    palette=year_palette,\n",
    "    data=motorbike_data\n",
    ")\n",
    "g._legend.texts[0].set_text('Year')\n",
    "g.set(\n",
    "    xlabel='Hour', \n",
    "    ylabel='Average number of calls',\n",
    "    xticks=np.arange(0, 24)\n",
    ")\n",
    "for ax in g.axes.flatten():\n",
    "    ax.tick_params(labelbottom=True)\n",
    "plt.subplots_adjust(top=0.9, hspace=0.15)\n",
    "g.fig.suptitle('Number of calls by hour and year')\n",
    "g.fig.savefig(os.path.join(FIGURES_PATH, 'calls-by-hour.png'))"
   ]
  },
  {
   "cell_type": "code",
   "execution_count": null,
   "metadata": {},
   "outputs": [],
   "source": [
    "g = sns.catplot(\n",
    "    x='hr',\n",
    "    y='cnt',\n",
    "    hue='yr',\n",
    "    legend='full',\n",
    "    kind='bar',\n",
    "    palette=year_palette,\n",
    "    aspect=2,\n",
    "    data=(\n",
    "        motorbike_data\n",
    "        .groupby(['yr', 'hr'], as_index=False)\n",
    "        ['cnt']\n",
    "        .count()\n",
    "    )\n",
    ")\n",
    "g._legend.set_title('Year')\n",
    "g.set(\n",
    "    xlabel='Hour', \n",
    "    ylabel='Number of observations', \n",
    ")\n",
    "plt.subplots_adjust(top=0.9)\n",
    "g.fig.suptitle('Number of observations by hour and year')\n",
    "g.fig.savefig(os.path.join(FIGURES_PATH, 'observations-by-hour.png'))"
   ]
  },
  {
   "cell_type": "code",
   "execution_count": null,
   "metadata": {
    "scrolled": false
   },
   "outputs": [],
   "source": [
    "g = sns.FacetGrid(\n",
    "    motorbike_data, \n",
    "    col='yr',\n",
    "    hue='yr',\n",
    "    palette=year_palette,\n",
    "    height=8\n",
    ")\n",
    "g.map(\n",
    "    sns.pointplot, \n",
    "    'season', \n",
    "    'cnt', \n",
    "    order=season_order\n",
    ")\n",
    "g.axes[0][0].set(\n",
    "    title='Year 2011',\n",
    "    xlabel='Season',\n",
    "    ylabel='Average number of calls'\n",
    ")\n",
    "g.axes[0][1].set(\n",
    "    title='Year 2012',\n",
    "    xlabel='Season'\n",
    ")\n",
    "plt.subplots_adjust(top=0.9)\n",
    "g.fig.suptitle('Number of calls by season and year')\n",
    "g.fig.savefig(os.path.join(FIGURES_PATH, 'calls-by-season-significance.png'))"
   ]
  },
  {
   "cell_type": "code",
   "execution_count": null,
   "metadata": {},
   "outputs": [],
   "source": [
    "g = sns.FacetGrid(\n",
    "    motorbike_data, \n",
    "    col='yr',\n",
    "    hue='yr',\n",
    "    palette=year_palette,\n",
    "    height=8\n",
    ")\n",
    "g.map(\n",
    "    sns.pointplot, \n",
    "    'mnth', \n",
    "    'cnt',\n",
    "    order=np.arange(1, 13)\n",
    ")\n",
    "g.axes[0][0].set(\n",
    "    title='Year 2011',\n",
    "    xlabel='Month',\n",
    "    ylabel='Average number of calls'\n",
    ")\n",
    "\n",
    "g.axes[0][1].set(\n",
    "    title='Year 2012',\n",
    "    xlabel='Month'\n",
    ")\n",
    "plt.subplots_adjust(top=0.9)\n",
    "g.fig.suptitle('Number of calls by month and year')\n",
    "g.fig.savefig(os.path.join(FIGURES_PATH, 'calls-by-month-significance.png'))"
   ]
  },
  {
   "cell_type": "code",
   "execution_count": null,
   "metadata": {},
   "outputs": [],
   "source": [
    "g = sns.relplot(\n",
    "    x='weathersit',\n",
    "    y='cnt',\n",
    "    hue='yr',\n",
    "    legend='full',\n",
    "    kind='line',\n",
    "    marker='o',\n",
    "    aspect=2,\n",
    "    palette=year_palette,\n",
    "    data=motorbike_data\n",
    ")\n",
    "g._legend.texts[0].set_text('Year')\n",
    "g.set(\n",
    "    xlabel='Weather situatuion', \n",
    "    ylabel='Average number of calls',\n",
    "    xticks=[1, 2, 3, 4]\n",
    ")\n",
    "plt.subplots_adjust(top=0.9)\n",
    "g.fig.suptitle('Number of calls by weather situation and year')\n",
    "g.fig.savefig(os.path.join(FIGURES_PATH, 'calls-by-weathersit.png'))"
   ]
  },
  {
   "cell_type": "code",
   "execution_count": null,
   "metadata": {},
   "outputs": [],
   "source": [
    "g = sns.catplot(\n",
    "    x='weathersit',\n",
    "    y='cnt',\n",
    "    hue='yr',\n",
    "    legend='full',\n",
    "    kind='bar',\n",
    "    palette=year_palette,\n",
    "    aspect=2,\n",
    "    data=(\n",
    "        motorbike_data\n",
    "        .groupby(['yr', 'weathersit'], as_index=False)\n",
    "        ['cnt']\n",
    "        .count()\n",
    "    )\n",
    ")\n",
    "g._legend.set_title('Year')\n",
    "g.set(\n",
    "    xlabel='Weather situation', \n",
    "    ylabel='Number of observations',\n",
    ")\n",
    "plt.subplots_adjust(top=0.9)\n",
    "g.fig.suptitle('Number of observations by weather situation and year')\n",
    "g.fig.savefig(os.path.join(FIGURES_PATH, 'observations-by-weathersit.png'))\n",
    "\n",
    "(\n",
    "    motorbike_data\n",
    "    .groupby(['yr', 'weathersit'], as_index=False)\n",
    "    ['cnt']\n",
    "    .count()\n",
    ")"
   ]
  },
  {
   "cell_type": "code",
   "execution_count": null,
   "metadata": {},
   "outputs": [],
   "source": [
    "g = sns.relplot(\n",
    "    x='hr',\n",
    "    y='cnt',\n",
    "    hue='yr',\n",
    "    row='weekday',\n",
    "    col='holiday',\n",
    "    legend='full',\n",
    "    kind='line',\n",
    "    marker='o',\n",
    "    aspect=2,\n",
    "    palette=year_palette,\n",
    "    data=motorbike_data\n",
    ")\n",
    "g._legend.texts[0].set_text('Year')\n",
    "g.set(\n",
    "    xlabel='Hour', \n",
    "    ylabel='Average number of calls',\n",
    "    xticks=np.arange(0, 24)\n",
    ")\n",
    "for ax in g.axes.flatten():\n",
    "    ax.tick_params(labelbottom=True)\n",
    "plt.subplots_adjust(top=0.95, hspace=0.15)\n",
    "g.fig.suptitle('Number of calls by hour and year, split by weekday X holiday')\n",
    "g.fig.savefig(os.path.join(FIGURES_PATH, 'calls-by-hour-by-weekday-by-holiday.png'))"
   ]
  },
  {
   "cell_type": "markdown",
   "metadata": {},
   "source": [
    "# Numerical features"
   ]
  },
  {
   "cell_type": "code",
   "execution_count": null,
   "metadata": {},
   "outputs": [],
   "source": [
    "numerical_features = {\n",
    "    'cnt', 'temp', 'atemp', 'hum', 'windspeed'\n",
    "}"
   ]
  },
  {
   "cell_type": "code",
   "execution_count": null,
   "metadata": {},
   "outputs": [],
   "source": [
    "(\n",
    "    motorbike_data\n",
    "    .reindex(columns=numerical_features)\n",
    "    .corr()\n",
    ")"
   ]
  },
  {
   "cell_type": "code",
   "execution_count": null,
   "metadata": {},
   "outputs": [],
   "source": [
    "print('Max correlation for each feature:')\n",
    "(\n",
    "    motorbike_data\n",
    "    .reindex(columns=numerical_features)\n",
    "    .corr()\n",
    "    .pipe(lambda x: x.subtract(np.diag([1.0] * len(x.columns))))\n",
    "    .apply(\n",
    "        lambda x: pd.Series({\n",
    "            'feature': x.abs().idxmax(), \n",
    "            'corr': x[x.abs().idxmax()]\n",
    "        }), \n",
    "        axis='columns'\n",
    "    )\n",
    ")"
   ]
  },
  {
   "cell_type": "code",
   "execution_count": null,
   "metadata": {},
   "outputs": [],
   "source": [
    "g = sns.pairplot(\n",
    "    motorbike_data,\n",
    "    palette=year_palette,\n",
    "    kind='reg',\n",
    "    diag_kind='kde',\n",
    "    vars=numerical_features\n",
    ")\n",
    "\n",
    "plt.subplots_adjust(top=0.9)\n",
    "g.fig.suptitle('Relations between numerical features')\n",
    "g.fig.savefig(os.path.join(FIGURES_PATH, 'relations-numerical.png'))"
   ]
  },
  {
   "cell_type": "markdown",
   "metadata": {},
   "source": [
    "# Target feature distribution"
   ]
  },
  {
   "cell_type": "code",
   "execution_count": null,
   "metadata": {},
   "outputs": [],
   "source": [
    "plt.figure(figsize=(15, 5))\n",
    "ax = sns.distplot(\n",
    "    motorbike_data['cnt'],\n",
    ")\n",
    "ax.set(\n",
    "    xlabel='Number of calls'\n",
    ")\n",
    "ax.figure.suptitle('Distribution of the number of calls')\n",
    "ax.figure.savefig(os.path.join(FIGURES_PATH, 'cnt-distribution.png'))"
   ]
  },
  {
   "cell_type": "code",
   "execution_count": null,
   "metadata": {},
   "outputs": [],
   "source": [
    "plt.figure(figsize=(15, 5))\n",
    "ax = sns.distplot(\n",
    "    np.log(motorbike_data['cnt']),\n",
    ")\n",
    "ax.set(\n",
    "    xlabel='Log number of calls'\n",
    ")\n",
    "ax.figure.suptitle('Distribution of log of the number of calls')\n",
    "ax.figure.savefig(os.path.join(FIGURES_PATH, 'log-cnt-distribution.png'))"
   ]
  },
  {
   "cell_type": "code",
   "execution_count": null,
   "metadata": {},
   "outputs": [],
   "source": [
    "plt.figure(figsize=(15, 5))\n",
    "ax = sns.distplot(\n",
    "    np.sqrt(motorbike_data['cnt']),\n",
    ")\n",
    "ax.set(\n",
    "    xlabel='Square root of number of calls'\n",
    ")\n",
    "ax.figure.suptitle('Distribution of square root of the number of calls')\n",
    "ax.figure.savefig(os.path.join(FIGURES_PATH, 'sqrt-cnt-distribution.png'))"
   ]
  },
  {
   "cell_type": "code",
   "execution_count": null,
   "metadata": {},
   "outputs": [],
   "source": [
    "def neg_poisson_log_likelihood(data, lamb):\n",
    "    likelihoods = poisson.pmf(data, lamb)\n",
    "    likelihoods = likelihoods[likelihoods != 0]\n",
    "    return -np.sum(np.log(likelihoods))\n",
    "\n",
    "def mle_poisson(data):\n",
    "    optimum = minimize(\n",
    "        lambda params, data: neg_poisson_log_likelihood(data, params[0]),\n",
    "        x0=np.ones(1),\n",
    "        args=(data,),\n",
    "        method='SLSQP'\n",
    "    )\n",
    "    print(optimum)\n",
    "    assert optimum.success\n",
    "    return optimum.x[0]\n",
    "\n",
    "mle_poisson(np.random.poisson(lam=0.2, size=1000))\n",
    "mle_poisson(np.random.poisson(lam=7.3, size=1000))"
   ]
  },
  {
   "cell_type": "code",
   "execution_count": null,
   "metadata": {},
   "outputs": [],
   "source": [
    "x_plot = np.arange(1000)\n",
    "fig = plt.figure(figsize=(15, 5))\n",
    "sns.distplot(motorbike_data['cnt'])\n",
    "plt.plot(\n",
    "    x_plot,\n",
    "    poisson.pmf(x_plot, mle_poisson(motorbike_data['cnt']))\n",
    ")\n",
    "\n",
    "fig.suptitle('Attempt to fit Poisson distribution with MLE')\n",
    "fig.savefig(os.path.join(FIGURES_PATH, 'fitted-poisson.png'))"
   ]
  },
  {
   "cell_type": "code",
   "execution_count": null,
   "metadata": {},
   "outputs": [],
   "source": [
    "def neg_norm_log_likelihood(data, loc, scale):\n",
    "    likelihoods = norm.pdf(data, loc=loc, scale=scale)\n",
    "    likelihoods = likelihoods[likelihoods != 0]\n",
    "    return -np.sum(np.log(likelihoods))\n",
    "\n",
    "def mle_norm(data):\n",
    "    optimum = minimize(\n",
    "        lambda params, data: neg_norm_log_likelihood(\n",
    "            data, \n",
    "            loc=params[0], \n",
    "            scale=params[1]\n",
    "        ),\n",
    "        x0=np.array([0, 1]),\n",
    "        args=(data,),\n",
    "        method='SLSQP'\n",
    "    )\n",
    "    print(optimum)\n",
    "    assert optimum.success\n",
    "    return optimum.x\n",
    "\n",
    "mle_norm(np.random.normal(loc=3, scale=2, size=1000))\n",
    "mle_norm(np.random.normal(loc=-2, scale=0.3, size=1000))"
   ]
  },
  {
   "cell_type": "code",
   "execution_count": null,
   "metadata": {},
   "outputs": [],
   "source": [
    "mle_norm(motorbike_data['cnt'])"
   ]
  },
  {
   "cell_type": "code",
   "execution_count": null,
   "metadata": {},
   "outputs": [],
   "source": [
    "fig = plt.figure(figsize=(15, 5))\n",
    "ax = sns.distplot(\n",
    "    motorbike_data['cnt'], kde=False,\n",
    "    fit=norm\n",
    ")\n",
    "ax.set(\n",
    "    xlabel='Number of calls'\n",
    ")\n",
    "ax.figure.suptitle('Fitted normal distribution')\n",
    "ax.figure.savefig(os.path.join(FIGURES_PATH, 'fitted-normal.png'))"
   ]
  },
  {
   "cell_type": "code",
   "execution_count": null,
   "metadata": {},
   "outputs": [],
   "source": [
    "fig = plt.figure(figsize=(15, 5))\n",
    "ax = sns.distplot(\n",
    "    motorbike_data['cnt'], kde=False,\n",
    "    fit=gamma\n",
    ")\n",
    "ax.set(\n",
    "    xlabel='Number of calls'\n",
    ")\n",
    "ax.figure.suptitle('Fitted gamma distribution')\n",
    "ax.figure.savefig(os.path.join(FIGURES_PATH, 'fitted-gamma.png'))"
   ]
  },
  {
   "cell_type": "markdown",
   "metadata": {},
   "source": [
    "# Missing data"
   ]
  },
  {
   "cell_type": "code",
   "execution_count": null,
   "metadata": {},
   "outputs": [],
   "source": [
    "(\n",
    "    motorbike_data\n",
    "    ['date']\n",
    "    .apply(['min', 'max'])\n",
    ")"
   ]
  },
  {
   "cell_type": "code",
   "execution_count": null,
   "metadata": {},
   "outputs": [],
   "source": [
    "observations_by_hour = (\n",
    "    motorbike_data\n",
    "    .groupby(['date', 'hr']).count()\n",
    "    ['cnt']\n",
    "    .reindex(pd.MultiIndex.from_product(\n",
    "        [\n",
    "            pd.date_range('2011-01-01', '2012-12-31'),\n",
    "            np.arange(24)\n",
    "        ],\n",
    "        names=['date', 'hr']\n",
    "    ))\n",
    ")\n",
    "\n",
    "missing_observations = (\n",
    "    observations_by_hour\n",
    "    [lambda x: pd.isnull(x)]\n",
    "    .reset_index()\n",
    "    .drop(columns='cnt')\n",
    ")\n",
    "\n",
    "missing_observations"
   ]
  },
  {
   "cell_type": "code",
   "execution_count": null,
   "metadata": {},
   "outputs": [],
   "source": [
    "(\n",
    "    missing_observations\n",
    "    .assign(yr=lambda x: x['date'].dt.year)\n",
    "    .groupby('yr')\n",
    "    .count()\n",
    ")"
   ]
  },
  {
   "cell_type": "code",
   "execution_count": null,
   "metadata": {},
   "outputs": [],
   "source": [
    "(\n",
    "    observations_by_hour\n",
    "    .reset_index()\n",
    "    .fillna({'cnt': 0})\n",
    "    .assign(group_mask=lambda x: (x['cnt'] != x['cnt'].shift()).cumsum())\n",
    "    .groupby(['cnt', 'group_mask'], as_index=False, sort=False)\n",
    "    .count()\n",
    "    .loc[lambda x: x['cnt'] == 0, 'hr']\n",
    "    .value_counts()\n",
    ")"
   ]
  },
  {
   "cell_type": "code",
   "execution_count": null,
   "metadata": {},
   "outputs": [],
   "source": [
    "missing_periods_distribution = (\n",
    "    pd.DataFrame(observations_by_hour)\n",
    "    .fillna(0)\n",
    "    .assign(group_mask=lambda x: (x != x.shift()).cumsum())\n",
    "    [lambda x: x['cnt'] == 0]\n",
    "    .groupby('group_mask', sort=False)\n",
    "    .count()\n",
    "    ['cnt']\n",
    ")\n",
    "\n",
    "fig = plt.figure(figsize=(15, 5))\n",
    "sns.distplot(\n",
    "    missing_periods_distribution, \n",
    "    kde=False\n",
    ")\n",
    "fig.suptitle('Distribution of periods of missing data')\n",
    "fig.savefig(os.path.join(FIGURES_PATH, 'missing-periods.png'))\n",
    "\n",
    "missing_periods_distribution.value_counts().sort_index()"
   ]
  },
  {
   "cell_type": "code",
   "execution_count": null,
   "metadata": {},
   "outputs": [],
   "source": []
  }
 ],
 "metadata": {
  "kernelspec": {
   "display_name": "Python 3",
   "language": "python",
   "name": "python3"
  },
  "language_info": {
   "codemirror_mode": {
    "name": "ipython",
    "version": 3
   },
   "file_extension": ".py",
   "mimetype": "text/x-python",
   "name": "python",
   "nbconvert_exporter": "python",
   "pygments_lexer": "ipython3",
   "version": "3.7.5"
  }
 },
 "nbformat": 4,
 "nbformat_minor": 2
}
