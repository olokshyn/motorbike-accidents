{
 "cells": [
  {
   "cell_type": "code",
   "execution_count": null,
   "metadata": {},
   "outputs": [],
   "source": [
    "import math\n",
    "\n",
    "import numpy as np\n",
    "import pandas as pd\n",
    "import seaborn as sns\n",
    "\n",
    "from sklearn.pipeline import Pipeline\n",
    "from sklearn.impute import SimpleImputer\n",
    "from sklearn.model_selection import (\n",
    "    train_test_split, cross_val_score, GridSearchCV, TimeSeriesSplit\n",
    ")\n",
    "from sklearn.preprocessing import OneHotEncoder, StandardScaler\n",
    "from sklearn.compose import ColumnTransformer\n",
    "from sklearn.metrics import mean_squared_error"
   ]
  },
  {
   "cell_type": "markdown",
   "metadata": {},
   "source": [
    "# Configuration"
   ]
  },
  {
   "cell_type": "code",
   "execution_count": null,
   "metadata": {},
   "outputs": [],
   "source": [
    "DATASET_PATH = 'datasets/motorbike_ambulance_calls.csv'"
   ]
  },
  {
   "cell_type": "markdown",
   "metadata": {},
   "source": [
    "# Input data"
   ]
  },
  {
   "cell_type": "code",
   "execution_count": null,
   "metadata": {},
   "outputs": [],
   "source": [
    "motorbike_data = (\n",
    "    pd.read_csv(\n",
    "        DATASET_PATH,\n",
    "        parse_dates=['date'],\n",
    "        dayfirst=False,\n",
    "    )\n",
    "    .set_index('index')\n",
    ")\n",
    "\n",
    "motorbike_data.info()\n",
    "motorbike_data.head()"
   ]
  },
  {
   "cell_type": "markdown",
   "metadata": {},
   "source": [
    "# Data analysis"
   ]
  },
  {
   "cell_type": "code",
   "execution_count": null,
   "metadata": {},
   "outputs": [],
   "source": [
    "target_feature = 'cnt'\n",
    "numerical_features = {\n",
    "    'temp', 'atemp', 'hum', 'windspeed'\n",
    "}\n",
    "numerical_and_target_features = numerical_features | set([target_feature])\n",
    "ordinal_features = {\n",
    "    'yr', 'mnth', 'hr'\n",
    "}\n",
    "categorical_features = {\n",
    "    'season', 'mnth', 'holiday', 'weekday', 'weathersit', 'workingday'\n",
    "}\n",
    "leftout_features = (\n",
    "    set(motorbike_data.columns) \n",
    "    - set([target_feature])\n",
    "    - numerical_features\n",
    "    - ordinal_features\n",
    "    - categorical_features\n",
    ")\n",
    "leftout_features"
   ]
  },
  {
   "cell_type": "markdown",
   "metadata": {},
   "source": [
    "## Munging"
   ]
  },
  {
   "cell_type": "code",
   "execution_count": null,
   "metadata": {},
   "outputs": [],
   "source": [
    "(\n",
    "    motorbike_data\n",
    "    .reindex(columns=numerical_and_target_features)\n",
    "    .describe()\n",
    ")"
   ]
  },
  {
   "cell_type": "code",
   "execution_count": null,
   "metadata": {},
   "outputs": [],
   "source": [
    "(\n",
    "    motorbike_data\n",
    "    .reindex(columns=ordinal_features)\n",
    "    .apply(['min', 'max'], axis='index')\n",
    ")"
   ]
  },
  {
   "cell_type": "markdown",
   "metadata": {},
   "source": [
    "Features are already within domains.\n",
    "`windspeed` has to be scaled to [0, 1] interval, ordinal and categorical features have to be one-hot encoded."
   ]
  },
  {
   "cell_type": "code",
   "execution_count": null,
   "metadata": {},
   "outputs": [],
   "source": [
    "(\n",
    "    motorbike_data\n",
    "    .isnull()\n",
    "    .any()\n",
    "    .any()\n",
    ")"
   ]
  },
  {
   "cell_type": "markdown",
   "metadata": {},
   "source": [
    "We can see that there are no missing values."
   ]
  },
  {
   "cell_type": "markdown",
   "metadata": {},
   "source": [
    "## Analysis"
   ]
  },
  {
   "cell_type": "markdown",
   "metadata": {},
   "source": [
    "### Numerical features"
   ]
  },
  {
   "cell_type": "markdown",
   "metadata": {},
   "source": [
    "Compute Pearson correlation coefficient pairwise to see if there is a linear dependency between features:"
   ]
  },
  {
   "cell_type": "code",
   "execution_count": null,
   "metadata": {},
   "outputs": [],
   "source": [
    "(\n",
    "    motorbike_data\n",
    "    .reindex(columns=numerical_and_target_features)\n",
    "    .corr()\n",
    ")"
   ]
  },
  {
   "cell_type": "code",
   "execution_count": null,
   "metadata": {},
   "outputs": [],
   "source": [
    "print('Max correlation for each feature:')\n",
    "(\n",
    "    motorbike_data\n",
    "    .reindex(columns=numerical_and_target_features)\n",
    "    .corr()\n",
    "    .pipe(lambda x: x.subtract(np.diag([1.0] * len(x.columns))))\n",
    "    .apply(\n",
    "        lambda x: pd.Series({\n",
    "            'feature': x.abs().idxmax(), \n",
    "            'corr': x[x.abs().idxmax()]\n",
    "        }), \n",
    "        axis='columns'\n",
    "    )\n",
    ")"
   ]
  },
  {
   "cell_type": "markdown",
   "metadata": {},
   "source": [
    "Strong linear dependencies are not observed between the target variable and the numerical features. The target variable `cnt` is correlated most with `temp` feature. At the same time, features `temp` and `atemp` are strongly correlated, so the model should not use both of them."
   ]
  },
  {
   "cell_type": "code",
   "execution_count": null,
   "metadata": {},
   "outputs": [],
   "source": [
    "sns.pairplot(\n",
    "    (\n",
    "        motorbike_data\n",
    "        .reindex(columns=numerical_and_target_features)\n",
    "        .drop(columns='temp')\n",
    "    )\n",
    ");"
   ]
  },
  {
   "cell_type": "markdown",
   "metadata": {},
   "source": [
    "### Categorical features: workingday"
   ]
  },
  {
   "cell_type": "code",
   "execution_count": null,
   "metadata": {},
   "outputs": [],
   "source": [
    "sns.catplot(\n",
    "    x='hr',\n",
    "    y='cnt',\n",
    "    kind='box',\n",
    "    hue='workingday',\n",
    "    data=motorbike_data,\n",
    "    aspect=2\n",
    ");"
   ]
  },
  {
   "cell_type": "markdown",
   "metadata": {},
   "source": [
    "As one can see, on working days more accidents happen in the rush hours - 7.00 - 8.00 and 16.00 - 20.00. On non-working days, the accidents are distributed closer to the middle of the day.\n",
    "\n",
    "For both working and non-working days, the dependency between `hr` and `cnt` doesn't seem to be linear.\n",
    "\n",
    "**Observation 1: motorbike accidents are distributed differently over time depending on workingday**"
   ]
  },
  {
   "cell_type": "markdown",
   "metadata": {},
   "source": [
    "### Categorical features: season"
   ]
  },
  {
   "cell_type": "code",
   "execution_count": null,
   "metadata": {},
   "outputs": [],
   "source": [
    "sns.catplot(\n",
    "    x='hr',\n",
    "    y='cnt',\n",
    "    kind='box',\n",
    "    hue='workingday',\n",
    "    row='season',\n",
    "    data=motorbike_data,\n",
    "    aspect=2\n",
    ");"
   ]
  },
  {
   "cell_type": "markdown",
   "metadata": {},
   "source": [
    "### Categorical features: weathersit"
   ]
  },
  {
   "cell_type": "code",
   "execution_count": null,
   "metadata": {},
   "outputs": [],
   "source": [
    "sns.catplot(\n",
    "    x='hr',\n",
    "    y='cnt',\n",
    "    kind='box',\n",
    "    hue='workingday',\n",
    "    row='weathersit',\n",
    "    data=motorbike_data,\n",
    "    aspect=2\n",
    ");"
   ]
  },
  {
   "cell_type": "code",
   "execution_count": null,
   "metadata": {},
   "outputs": [],
   "source": [
    "sns.catplot(\n",
    "    x='weathersit',\n",
    "    y='cnt',\n",
    "    data=motorbike_data,\n",
    "    aspect=2\n",
    ");"
   ]
  },
  {
   "cell_type": "code",
   "execution_count": null,
   "metadata": {},
   "outputs": [],
   "source": [
    "(\n",
    "    motorbike_data\n",
    "    .groupby('weathersit')\n",
    "    ['cnt']\n",
    "    .sum()\n",
    "    .plot(kind='bar', title='Number of accidents by weathersit')\n",
    ");"
   ]
  },
  {
   "cell_type": "markdown",
   "metadata": {},
   "source": [
    "### Categorical feature: weekday"
   ]
  },
  {
   "cell_type": "code",
   "execution_count": null,
   "metadata": {},
   "outputs": [],
   "source": [
    "sns.catplot(\n",
    "    x='weekday',\n",
    "    y='cnt',\n",
    "    kind='box',\n",
    "    hue='workingday',\n",
    "    data=motorbike_data,\n",
    "    aspect=2\n",
    ");"
   ]
  },
  {
   "cell_type": "markdown",
   "metadata": {},
   "source": [
    "# Datasets"
   ]
  },
  {
   "cell_type": "code",
   "execution_count": null,
   "metadata": {},
   "outputs": [],
   "source": [
    "X, y = motorbike_data.drop(columns=target_feature), motorbike_data[target_feature]\n",
    "\n",
    "# No time machine: use 'past' data for training, use 'future' data for testing\n",
    "X_train, X_test, y_train, y_test = train_test_split(\n",
    "    X, y, test_size=0.3, shuffle=False\n",
    ")\n",
    "\n",
    "assert X_train.index.max() < X_test.index.min()"
   ]
  },
  {
   "cell_type": "markdown",
   "metadata": {},
   "source": [
    "# Pipeline"
   ]
  },
  {
   "cell_type": "code",
   "execution_count": null,
   "metadata": {},
   "outputs": [],
   "source": [
    "numerical_transformer = Pipeline(\n",
    "    steps=[\n",
    "        # In case serving data has missing values\n",
    "        ('imputer', SimpleImputer(strategy='mean')),\n",
    "        # Need to scale windspeed\n",
    "        ('scaler', StandardScaler())\n",
    "    ]\n",
    ")"
   ]
  },
  {
   "cell_type": "code",
   "execution_count": null,
   "metadata": {},
   "outputs": [],
   "source": [
    "categorical_transformer = Pipeline(\n",
    "    steps=[\n",
    "        # In case serving data has missing values\n",
    "        ('imputer', SimpleImputer(strategy='most_frequent')),\n",
    "        ('onehot', OneHotEncoder(categories='auto', \n",
    "                                 sparse=False, \n",
    "                                 handle_unknown='ignore'))\n",
    "    ]\n",
    ")"
   ]
  },
  {
   "cell_type": "code",
   "execution_count": null,
   "metadata": {},
   "outputs": [],
   "source": [
    "preprocessor = ColumnTransformer(\n",
    "    transformers=[\n",
    "        (\n",
    "            'numerical', \n",
    "            numerical_transformer, \n",
    "            list(numerical_features)\n",
    "        ),\n",
    "        (\n",
    "            'categorical', \n",
    "            categorical_transformer, \n",
    "            list(ordinal_features | categorical_features)\n",
    "        )\n",
    "    ],\n",
    "    remainder='drop'\n",
    ")"
   ]
  },
  {
   "cell_type": "code",
   "execution_count": null,
   "metadata": {},
   "outputs": [],
   "source": [
    "def build_pipeline(model, use_grid_search=True, **grid_search_params):\n",
    "    pipeline = Pipeline(steps=[\n",
    "        ('preprocessor', preprocessor),\n",
    "        ('model', model)\n",
    "    ])\n",
    "    if use_grid_search:\n",
    "        grid_search_params = {\n",
    "            'cv': TimeSeriesSplit(n_splits=5),\n",
    "\n",
    "            **grid_search_params\n",
    "        }\n",
    "        return GridSearchCV(pipeline, **grid_search_params)\n",
    "    return pipeline"
   ]
  },
  {
   "cell_type": "code",
   "execution_count": null,
   "metadata": {},
   "outputs": [],
   "source": [
    "def evaluate_prediction(model_name, prediction):\n",
    "    print(f'{model_name} RMSE: ', math.sqrt(mean_squared_error(y_test, prediction)))\n",
    "    sns.relplot(\n",
    "        x=model_name,\n",
    "        y='y_test',\n",
    "        data=pd.DataFrame({\n",
    "            model_name: prediction,\n",
    "            'y_test': y_test\n",
    "        })\n",
    "    );"
   ]
  },
  {
   "cell_type": "code",
   "execution_count": null,
   "metadata": {},
   "outputs": [],
   "source": [
    "def evaluate_model(model_name, model, **grid_search_params):\n",
    "    pipeline = build_pipeline(\n",
    "        model,\n",
    "        use_grid_search='param_grid' in grid_search_params,\n",
    "        **grid_search_params\n",
    "    )\n",
    "    pipeline.fit(X_train, y_train)\n",
    "    evaluate_prediction(model_name, pipeline.predict(X_test))\n",
    "    return pipeline"
   ]
  },
  {
   "cell_type": "markdown",
   "metadata": {},
   "source": [
    "# Modelling"
   ]
  },
  {
   "cell_type": "code",
   "execution_count": null,
   "metadata": {},
   "outputs": [],
   "source": [
    "from sklearn.linear_model import LinearRegression\n",
    "\n",
    "linear_regression = evaluate_model('linear regression', LinearRegression())\n",
    "print('R2 score: ', linear_regression.score(X_test, y_test))"
   ]
  },
  {
   "cell_type": "code",
   "execution_count": null,
   "metadata": {},
   "outputs": [],
   "source": [
    "from sklearn.tree import DecisionTreeRegressor\n",
    "\n",
    "decision_tree = evaluate_model(\n",
    "    'decision tree', \n",
    "    DecisionTreeRegressor(random_state=42),\n",
    "    param_grid={\n",
    "        'model__max_depth': [10, 15, 20, 25, 30]\n",
    "    }\n",
    ")"
   ]
  },
  {
   "cell_type": "code",
   "execution_count": null,
   "metadata": {},
   "outputs": [],
   "source": [
    "from sklearn.ensemble import RandomForestRegressor\n",
    "\n",
    "random_forest = evaluate_model(\n",
    "    'random forest',\n",
    "    RandomForestRegressor(random_state=42),\n",
    "    param_grid={\n",
    "        'model__n_estimators': [5, 10, 15, 20, 25],\n",
    "        'model__max_depth': [None, 10, 15]\n",
    "    }\n",
    ")"
   ]
  },
  {
   "cell_type": "code",
   "execution_count": null,
   "metadata": {},
   "outputs": [],
   "source": []
  }
 ],
 "metadata": {
  "kernelspec": {
   "display_name": "Python 3",
   "language": "python",
   "name": "python3"
  },
  "language_info": {
   "codemirror_mode": {
    "name": "ipython",
    "version": 3
   },
   "file_extension": ".py",
   "mimetype": "text/x-python",
   "name": "python",
   "nbconvert_exporter": "python",
   "pygments_lexer": "ipython3",
   "version": "3.7.5"
  }
 },
 "nbformat": 4,
 "nbformat_minor": 2
}
